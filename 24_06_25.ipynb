{
 "cells": [
  {
   "cell_type": "code",
   "execution_count": 1,
   "id": "61b131ba",
   "metadata": {},
   "outputs": [],
   "source": [
    "meses = [\n",
    "    \"Enero\", \"Febrero\", \"Marzo\", \"Abril\",\n",
    "    \"Mayo\", \"Junio\", \"Julio\", \"Agosto\",\n",
    "    \"Septiembre\", \"Octubre\", \"Noviembre\", \"Diciembre\"\n",
    "]\n",
    "\n",
    "def obtener_mes():\n",
    "    while True:\n",
    "        mes = input(\"Ingrese un nombre de mes: \").strip().capitalize()\n",
    "        if mes in meses:\n",
    "            return mes\n",
    "        else:\n",
    "            print(\"Mes no válido. Intente nuevamente.\")\n"
   ]
  },
  {
   "cell_type": "code",
   "execution_count": null,
   "id": "ffe90b73",
   "metadata": {},
   "outputs": [],
   "source": [
    "colores = [\"rojo\", \"azul\", \"verde\", \"amarillo\", \"negro\"]\n",
    "\n",
    "def elegir_color_favorito():\n",
    "    while True:\n",
    "        color = input(\"Ingrese su color favorito: \").strip().lower()\n",
    "        if color in colores:\n",
    "            return color\n",
    "        else:\n",
    "            print(\"Color no válido. Intente con uno de estos:\", \", \".join(colores))\n"
   ]
  },
  {
   "cell_type": "code",
   "execution_count": null,
   "id": "9c9fbf7c",
   "metadata": {},
   "outputs": [],
   "source": [
    "def confirmar_salida():\n",
    "    opciones_si = [\"sí\", \"si\", \"s\"]\n",
    "    opciones_no = [\"no\", \"n\"]\n",
    "\n",
    "    while True:\n",
    "        respuesta = input(\"¿Desea salir? (sí/no): \").strip().lower()\n",
    "        if respuesta in opciones_si:\n",
    "            return True\n",
    "        elif respuesta in opciones_no:\n",
    "            return False\n",
    "        else:\n",
    "            print(\"Respuesta no válida. Ingrese sí o no.\")\n"
   ]
  },
  {
   "cell_type": "code",
   "execution_count": null,
   "id": "7c418373",
   "metadata": {},
   "outputs": [],
   "source": [
    "def pedir_edad_rango():\n",
    "    while True:\n",
    "        try:\n",
    "            edad = int(input(\"Ingrese su edad (entre 18 y 99): \"))\n",
    "            if 18 <= edad <= 99:\n",
    "                return edad\n",
    "            else:\n",
    "                print(\"Edad fuera de rango.\")\n",
    "        except ValueError:\n",
    "            print(\"Error: debe ingresar un número entero.\")\n"
   ]
  },
  {
   "cell_type": "code",
   "execution_count": null,
   "id": "e4b778de",
   "metadata": {},
   "outputs": [],
   "source": [
    "def pedir_contrasena():\n",
    "    while True:\n",
    "        contrasena = input(\"Ingrese una contraseña (mínimo 8 caracteres): \").strip()\n",
    "        if len(contrasena) >= 8:\n",
    "            return contrasena\n",
    "        else:\n",
    "            print(\"La contraseña es demasiado corta. Intente nuevamente.\")\n"
   ]
  },
  {
   "cell_type": "code",
   "execution_count": null,
   "id": "f3a61332",
   "metadata": {},
   "outputs": [],
   "source": [
    "mes = obtener_mes()\n",
    "print(\"Mes elegido:\", mes)\n",
    "\n",
    "color = elegir_color_favorito()\n",
    "print(\"Color elegido:\", color)\n",
    "\n",
    "if confirmar_salida():\n",
    "    print(\"Saliendo del programa...\")\n",
    "else:\n",
    "    print(\"Continuamos...\")\n",
    "\n",
    "edad = pedir_edad_rango()\n",
    "print(\"Edad ingresada:\", edad)\n",
    "\n",
    "clave = pedir_contrasena()\n",
    "print(\"Contraseña válida.\")\n"
   ]
  }
 ],
 "metadata": {
  "kernelspec": {
   "display_name": "base",
   "language": "python",
   "name": "python3"
  },
  "language_info": {
   "codemirror_mode": {
    "name": "ipython",
    "version": 3
   },
   "file_extension": ".py",
   "mimetype": "text/x-python",
   "name": "python",
   "nbconvert_exporter": "python",
   "pygments_lexer": "ipython3",
   "version": "3.12.7"
  }
 },
 "nbformat": 4,
 "nbformat_minor": 5
}
